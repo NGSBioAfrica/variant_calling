{
 "cells": [
  {
   "cell_type": "markdown",
   "metadata": {},
   "source": [
    "# Variant visualisation\n",
    "\n",
    "It is often useful to visually inspect a SNP or indel of interest in order to assess the quality of the variant and interpret the genomic context of the variant. We can use the IGV tool to view some of the variant positions from the VCF file. \n",
    "\n",
    "Start IGV by typing:"
   ]
  },
  {
   "cell_type": "code",
   "execution_count": null,
   "metadata": {},
   "outputs": [],
   "source": [
    "igv"
   ]
  },
  {
   "cell_type": "markdown",
   "metadata": {},
   "source": [
    "## Load the reference genome\n",
    "\n",
    "Open the mouse reference genome\"\n",
    "\n",
    "**Go to ' _Genomes -> Load Genome From Server…_ ' and select \"Mouse mm10\". This is a synonym for GRCm38, which is the current mouse assembly (reference genome)** "
   ]
  },
  {
   "cell_type": "markdown",
   "metadata": {},
   "source": [
    "## Load the alignment \n",
    "\n",
    "Load the alignment file for the sample A_J (A_J.bam).\n",
    "\n",
    "**Go to ' _File -> Load from File…_ '. Select the \"A_J.bam\" BAM file that you created in the previous section and click ' _Open_ '.**"
   ]
  },
  {
   "cell_type": "markdown",
   "metadata": {},
   "source": [
    "## Exercises\n",
    "\n",
    "Use the IGV navigation bar, go to the region chr19:10,001,874-10,002,017 and inspect the SNP at position 10001946.\n",
    "\n",
    "**Q1:** How many forward aligned reads support the SNP call? \n",
    "\n",
    "**Hint** Hover the mouse pointer over the coverage bar at the top (or click, depending on the IGV settings) to get this information.\n",
    "\n",
    "**Q2:** Was this SNP called by bcftools? \n",
    "\n",
    "**Hint** Use `bcftools view -H -r chr19:10001946 multi.filt.bcf` to verify\n",
    "\n",
    "**Q3:** Did this SNP pass the filters?\n",
    "\n",
    "**Hint** Look for this information in the BCF file\n",
    "\n",
    "Use the IGV navigation bar, go to the region chr19:10072443 and inspect the SNP at position 10072443.\n",
    "\n",
    "**Q4:** Was this SNP called by bcftools?\n",
    "\n",
    "**Q5:** Did the SNP pass the filters? \n",
    "\n",
    "**Q6:** Does this look like a real SNP? Please explain why."
   ]
  },
  {
   "cell_type": "markdown",
   "metadata": {},
   "source": [
    "Now continue to the next section of the tutorial: [Variant annotation](annotation.ipynb)"
   ]
  }
 ],
 "metadata": {
  "kernelspec": {
   "display_name": "Bash",
   "language": "bash",
   "name": "bash"
  },
  "language_info": {
   "codemirror_mode": "shell",
   "file_extension": ".sh",
   "mimetype": "text/x-sh",
   "name": "bash"
  }
 },
 "nbformat": 4,
 "nbformat_minor": 2
}
