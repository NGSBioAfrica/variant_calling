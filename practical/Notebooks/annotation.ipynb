{
 "cells": [
  {
   "cell_type": "markdown",
   "metadata": {},
   "source": [
    "# Variant annotation\n",
    "\n",
    "Variant annotation is used to help researchers filter and prioritise functionally important variants for further study. There are several popular programs available for annotating variants. These include:\n",
    "\n",
    " * bcftools csq\n",
    " * Ensembl VEP (Variant Effect Predictor)\n",
    " * SnpEff\n",
    "\n",
    "These tools can be used to to predict the functional consequence of the variants on the protien (e.g. whether a variant is mis-sense, stop-gain, frameshift inducing etc)."
   ]
  },
  {
   "cell_type": "markdown",
   "metadata": {},
   "source": [
    "## bcftools csq\n",
    "\n",
    "Here we will use the lightweight `bcftools csq` command to annotate the variants. Type the command:"
   ]
  },
  {
   "cell_type": "code",
   "execution_count": null,
   "metadata": {},
   "outputs": [],
   "source": [
    "bcftools view -i 'FILTER=\"PASS\"' multi.filt.bcf | bcftools csq -p m -f GRCm38_68.19.fa -g Mus_musculus.part.gff3.gz -Ob -o multi.filt.annot.bcf"
   ]
  },
  {
   "cell_type": "markdown",
   "metadata": {},
   "source": [
    "The command takes VCF as input, the `-f` option specifies the reference file that the data was aligned too and the `-g` option specifies the GFF file that contains the gene models for the reference. Because our data is not phased, we provide the `-p` option (which does not actually phase the data, but tells the program to make an assumption about the phase). The `-Ob` option ensures the command produces compressed BCF as output."
   ]
  },
  {
   "cell_type": "markdown",
   "metadata": {},
   "source": [
    "Now index the BCF file:"
   ]
  },
  {
   "cell_type": "code",
   "execution_count": null,
   "metadata": {},
   "outputs": [],
   "source": [
    "bcftools index multi.filt.annot.bcf"
   ]
  },
  {
   "cell_type": "markdown",
   "metadata": {},
   "source": [
    "### Exercises\n",
    "\n",
    "**Q1** Use the bcftools query -f '%BCSQ\\n' command to extract the consequence at position 19:10088937. "
   ]
  },
  {
   "cell_type": "code",
   "execution_count": null,
   "metadata": {},
   "outputs": [],
   "source": []
  },
  {
   "cell_type": "markdown",
   "metadata": {},
   "source": [
    "**Q2** What is the functional annotation at this site?"
   ]
  },
  {
   "cell_type": "code",
   "execution_count": null,
   "metadata": {},
   "outputs": [],
   "source": []
  },
  {
   "cell_type": "markdown",
   "metadata": {},
   "source": [
    "**Q3** What is the amino acid change?"
   ]
  },
  {
   "cell_type": "code",
   "execution_count": null,
   "metadata": {},
   "outputs": [],
   "source": []
  },
  {
   "cell_type": "markdown",
   "metadata": {},
   "source": [
    "Congratulations you have reached the end of the variant calling tutorial. For the answers to the exercises in this tutorial please visit [answers](answers.ipynb)."
   ]
  }
 ],
 "metadata": {
  "kernelspec": {
   "display_name": "Bash",
   "language": "bash",
   "name": "bash"
  },
  "language_info": {
   "codemirror_mode": "shell",
   "file_extension": ".sh",
   "mimetype": "text/x-sh",
   "name": "bash"
  }
 },
 "nbformat": 4,
 "nbformat_minor": 2
}
